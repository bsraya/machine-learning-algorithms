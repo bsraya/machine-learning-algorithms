{
 "cells": [
  {
   "cell_type": "code",
   "execution_count": 1,
   "metadata": {},
   "outputs": [],
   "source": [
    "from sklearn.datasets import load_iris\n",
    "import matplotlib.pyplot as plt\n",
    "import seaborn as sns\n",
    "import numpy as np"
   ]
  },
  {
   "cell_type": "code",
   "execution_count": 2,
   "metadata": {},
   "outputs": [],
   "source": [
    "# use iris and get only petal width and sepal length\n",
    "iris = load_iris()\n",
    "sepal_length = iris.data[:, 0]\n",
    "petal_width = iris.data[:, 3]\n",
    "target = iris.target\n",
    "\n",
    "species_dict = {0: 'setosa', 1: 'versicolor', 2: 'virginica'}\n",
    "species_name = [species_dict[i] for i in target]"
   ]
  },
  {
   "cell_type": "code",
   "execution_count": 77,
   "metadata": {},
   "outputs": [
    {
     "name": "stdout",
     "output_type": "stream",
     "text": [
      "intercept: -2.7174583375849535, coefficients: [0.67187247]\n"
     ]
    }
   ],
   "source": [
    "import numpy as np\n",
    "\n",
    "class LinearRegression:\n",
    "    def __init__(self):\n",
    "        self.iterations = 10_000\n",
    "        self.learning_rate = 0.01\n",
    "        self.intercept = 0\n",
    "        self.coefficients = None  # Now a vector of coefficients\n",
    "        self.X = None\n",
    "        self.y = None\n",
    "        self.length = 0\n",
    "        self.loss_history = list()\n",
    "\n",
    "    def _intercept(self):\n",
    "        return self.intercept\n",
    "\n",
    "    def _coefficients(self):\n",
    "        return self.coefficients\n",
    "\n",
    "    def _loss_history(self):\n",
    "        return self.loss_history\n",
    "\n",
    "    def mean_squared_error(self, predictions):\n",
    "        return np.sum(np.square(predictions - self.y)) / self.length\n",
    "\n",
    "    def predict(self, X):\n",
    "        return self.intercept + np.dot(X, self.coefficients)\n",
    "\n",
    "    def update_params(self, predictions):\n",
    "        error = predictions - self.y\n",
    "        self.intercept -= self.learning_rate * np.sum(error) / self.length\n",
    "        self.coefficients -= self.learning_rate * (np.dot(self.X.T, error) / self.length)\n",
    "\n",
    "    def fit(self, X, y):\n",
    "        self.X = np.array(X)\n",
    "        if len(self.X.shape) == 1:\n",
    "            self.X = self.X.reshape(-1, 1) # to support 1D data, otherwise self.coefficients = np.zeros(self.X.shape[1]) will fail\n",
    "        self.y = np.array(y)\n",
    "        self.length = len(self.y)\n",
    "        self.coefficients = np.zeros(self.X.shape[1])\n",
    "\n",
    "        for _ in range(self.iterations):\n",
    "            predictions = self.predict(self.X)\n",
    "            self.update_params(predictions)\n",
    "            self.loss_history.append(self.mean_squared_error(predictions))\n",
    "\n",
    "lin_reg = LinearRegression()\n",
    "lin_reg.fit(sepal_length, petal_width)\n",
    "print(f\"intercept: {lin_reg._intercept()}, coefficients: {lin_reg._coefficients()}\")"
   ]
  }
 ],
 "metadata": {
  "kernelspec": {
   "display_name": "py310",
   "language": "python",
   "name": "python3"
  },
  "language_info": {
   "codemirror_mode": {
    "name": "ipython",
    "version": 3
   },
   "file_extension": ".py",
   "mimetype": "text/x-python",
   "name": "python",
   "nbconvert_exporter": "python",
   "pygments_lexer": "ipython3",
   "version": "3.10.11"
  }
 },
 "nbformat": 4,
 "nbformat_minor": 2
}
