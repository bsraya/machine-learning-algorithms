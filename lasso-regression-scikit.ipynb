{
 "cells": [
  {
   "cell_type": "code",
   "execution_count": 1,
   "metadata": {},
   "outputs": [],
   "source": [
    "from sklearn.datasets import load_iris\n",
    "import matplotlib.pyplot as plt\n",
    "import seaborn as sns\n",
    "import numpy as np"
   ]
  },
  {
   "cell_type": "code",
   "execution_count": 3,
   "metadata": {},
   "outputs": [],
   "source": [
    "iris = load_iris()\n",
    "sepal_length = iris.data[:, 0]\n",
    "petal_width = iris.data[:, 3]\n",
    "target = iris.target\n",
    "\n",
    "species_dict = {0: 'setosa', 1: 'versicolor', 2: 'virginica'}\n",
    "species_name = [species_dict[i] for i in target]"
   ]
  },
  {
   "cell_type": "code",
   "execution_count": 2,
   "metadata": {},
   "outputs": [],
   "source": [
    "class LassoRegression:\n",
    "    def __init__(self, learning_rate = 0.01, l1_penalty = 0.01, iterations = 1000):\n",
    "        self.learning_rate = learning_rate\n",
    "        self.l1_penalty = l1_penalty\n",
    "        self.iterations = iterations\n",
    "        self.intercept = 0\n",
    "        self.coefs = np.array([])\n",
    "        self.X = None\n",
    "        self.y = None\n",
    "\n",
    "    def _params(self):\n",
    "        return self.intercept, self.coefs\n",
    "    \n",
    "    def _cost_history(self):\n",
    "        return self.cost_history\n",
    "    \n",
    "    def _mse_history(self):\n",
    "        return self.mse_history\n",
    "\n",
    "    def mean_squared_error(self, y_pred, y_true):\n",
    "        return np.mean((y_pred - y_true)**2)\n",
    "\n",
    "    def cost_function(self, y_pred, y_true, params):\n",
    "        \"\"\"\n",
    "            inputs:\n",
    "                y_pred: predicted values\n",
    "                y_true: actual values\n",
    "                theta: parameters\n",
    "\n",
    "            outputs:\n",
    "                cost_function: value to minimize\n",
    "        \"\"\"\n",
    "        return self.mean_squared_error(y_pred, y_true) + self.l1_penalty * np.sum(np.abs(params))\n",
    "\n",
    "    def fit(self, X, y):\n",
    "        self.X = np.array(X)\n",
    "        self.y = np.array(y)\n",
    "        self.intercept = 0\n",
    "        self.coef = np.zeros(self.X.shape[1])\n",
    "        self.cost_history = np.array([])\n",
    "        self.mse_history = np.array([])\n",
    "\n",
    "        for _ in range(self.iterations):\n",
    "            y_pred = self.predict(X)\n",
    "            self.update_params()\n",
    "            cost = self.cost_function(y_pred, self.y, self.coef)\n",
    "            self.cost_history.append(cost)\n",
    "            self.mse_history.append(\n",
    "                self.mean_squared_error(y_pred, y)\n",
    "            )\n",
    "\n",
    "    def predict(self, X):\n",
    "        return self.intercept + \n",
    "\n",
    "    def update_params(self):\n",
    "        self.intercept = self.intercept - self.learning_rate * np.sum(self.predict(self.X) - self.y) / len(self.y)\n",
    "        self.coef = self.coef - self.learning_rate * np.sum(self.predict(self.X) - self.y) / len(self.y) * self.X"
   ]
  },
  {
   "cell_type": "code",
   "execution_count": null,
   "metadata": {},
   "outputs": [],
   "source": [
    "lasso = LassoRegression()\n"
   ]
  }
 ],
 "metadata": {
  "kernelspec": {
   "display_name": "py310",
   "language": "python",
   "name": "python3"
  },
  "language_info": {
   "codemirror_mode": {
    "name": "ipython",
    "version": 3
   },
   "file_extension": ".py",
   "mimetype": "text/x-python",
   "name": "python",
   "nbconvert_exporter": "python",
   "pygments_lexer": "ipython3",
   "version": "3.10.6"
  }
 },
 "nbformat": 4,
 "nbformat_minor": 2
}
